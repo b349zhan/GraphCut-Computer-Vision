{
 "cells": [
  {
   "cell_type": "code",
   "execution_count": null,
   "id": "07c702d0",
   "metadata": {},
   "outputs": [],
   "source": [
    "%matplotlib notebook\n",
    "\n",
    "# loading standard modules\n",
    "import numpy as np\n",
    "import matplotlib.pyplot as plt\n",
    "import maxflow\n",
    "from skimage import img_as_ubyte\n",
    "from sklearn import mixture\n",
    "from skimage.color import rgb2grey\n",
    "from numpy.linalg import norm\n",
    "from sklearn.mixture import GaussianMixture\n",
    "# loading custom module (requires file asg1.py in the same directory as the notebook file)\n",
    "from asg1_error_handling import Figure, GraphCutsPresenter"
   ]
  }
 ],
 "metadata": {
  "kernelspec": {
   "display_name": "Python 3",
   "language": "python",
   "name": "python3"
  },
  "language_info": {
   "codemirror_mode": {
    "name": "ipython",
    "version": 3
   },
   "file_extension": ".py",
   "mimetype": "text/x-python",
   "name": "python",
   "nbconvert_exporter": "python",
   "pygments_lexer": "ipython3",
   "version": "3.8.5"
  }
 },
 "nbformat": 4,
 "nbformat_minor": 5
}
