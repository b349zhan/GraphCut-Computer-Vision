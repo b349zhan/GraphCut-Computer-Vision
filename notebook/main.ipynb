{
 "cells": [
  {
   "cell_type": "code",
   "execution_count": 4,
   "id": "ac7b8078",
   "metadata": {},
   "outputs": [
    {
     "ename": "SyntaxError",
     "evalue": "unexpected character after line continuation character (<ipython-input-4-3e0f93624cbb>, line 13)",
     "output_type": "error",
     "traceback": [
      "\u001b[0;36m  File \u001b[0;32m\"<ipython-input-4-3e0f93624cbb>\"\u001b[0;36m, line \u001b[0;32m13\u001b[0m\n\u001b[0;31m    from GraphCut\\-Computer\\-Vision.helper import Figure, GraphCutsPresenter\u001b[0m\n\u001b[0m                                                                            ^\u001b[0m\n\u001b[0;31mSyntaxError\u001b[0m\u001b[0;31m:\u001b[0m unexpected character after line continuation character\n"
     ]
    }
   ],
   "source": [
    "%matplotlib notebook\n",
    "\n",
    "# loading standard modules\n",
    "import numpy as np\n",
    "import matplotlib.pyplot as plt\n",
    "import maxflow\n",
    "from skimage import img_as_ubyte\n",
    "from sklearn import mixture\n",
    "from skimage.color import rgb2grey\n",
    "from numpy.linalg import norm\n",
    "from sklearn.mixture import GaussianMixture\n",
    "# loading custom module (requires file asg1.py in the same directory as the notebook file)\n",
    "from GraphCut-Computer-Vision.helper import Figure, GraphCutsPresenter"
   ]
  },
  {
   "cell_type": "code",
   "execution_count": null,
   "id": "9870d148",
   "metadata": {},
   "outputs": [],
   "source": [
    "img1 = plt.imread('images/bunny.bmp')\n",
    "app = MyGraphCuts(img1,0.05,1)\n",
    "app.run()"
   ]
  }
 ],
 "metadata": {
  "kernelspec": {
   "display_name": "Python 3",
   "language": "python",
   "name": "python3"
  },
  "language_info": {
   "codemirror_mode": {
    "name": "ipython",
    "version": 3
   },
   "file_extension": ".py",
   "mimetype": "text/x-python",
   "name": "python",
   "nbconvert_exporter": "python",
   "pygments_lexer": "ipython3",
   "version": "3.8.5"
  }
 },
 "nbformat": 4,
 "nbformat_minor": 5
}
